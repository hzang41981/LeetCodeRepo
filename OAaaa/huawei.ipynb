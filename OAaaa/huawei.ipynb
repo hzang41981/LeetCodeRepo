{
 "cells": [
  {
   "cell_type": "code",
   "execution_count": 3,
   "outputs": [
    {
     "data": {
      "text/plain": "['', 'hh', 'jj']"
     },
     "execution_count": 3,
     "metadata": {},
     "output_type": "execute_result"
    }
   ],
   "source": [
    "path = '//hh/jj'\n",
    "path[1:].split('/')"
   ],
   "metadata": {
    "collapsed": false,
    "pycharm": {
     "name": "#%%\n"
    }
   }
  },
  {
   "cell_type": "code",
   "execution_count": 5,
   "outputs": [
    {
     "data": {
      "text/plain": "False"
     },
     "execution_count": 5,
     "metadata": {},
     "output_type": "execute_result"
    }
   ],
   "source": [
    "'a.b'.isalpha()"
   ],
   "metadata": {
    "collapsed": false,
    "pycharm": {
     "name": "#%%\n"
    }
   }
  },
  {
   "cell_type": "code",
   "execution_count": 11,
   "outputs": [
    {
     "name": "stdout",
     "output_type": "stream",
     "text": [
      "/\n"
     ]
    }
   ],
   "source": [
    "def func():\n",
    "\n",
    "    # please define the python2 input here. For example: a,b = map(int, raw_input().strip().split())\n",
    "    path = '/aa/bb/./../../../cc'\n",
    "    '''\n",
    "    for i in range(1, len(path)):\n",
    "        if path[i-1:i+1] == '//':\n",
    "            print(\"/\")\n",
    "    '''\n",
    "    p_lst = path[1:].split('/')\n",
    "    stack = []\n",
    "\n",
    "    for i in range(len(p_lst)):\n",
    "        if p_lst[i] == '':\n",
    "            print('/')\n",
    "            return\n",
    "        if p_lst[i] == '.':\n",
    "            continue\n",
    "        if p_lst[i] == '..':\n",
    "            if stack:\n",
    "                stack.pop(-1)\n",
    "                continue\n",
    "            else:\n",
    "                print('/')\n",
    "                return\n",
    "        if p_lst[i].isalpha():\n",
    "            stack.append(p_lst[i])\n",
    "        else:\n",
    "            print('/')\n",
    "            return\n",
    "    print('/'+'/'.join(stack))\n",
    "func()"
   ],
   "metadata": {
    "collapsed": false,
    "pycharm": {
     "name": "#%%\n"
    }
   }
  },
  {
   "cell_type": "code",
   "execution_count": 1,
   "outputs": [
    {
     "name": "stdout",
     "output_type": "stream",
     "text": [
      "[[1, 2, 3], [inf, inf, 4], [inf, 6, 5], [inf, 7, inf], [inf, 8, 9]]\n"
     ]
    }
   ],
   "source": [
    "def func():\n",
    "\n",
    "    # please define the python2 input here. For example: a,b = map(int, raw_input().strip().split())\n",
    "    width = 3\n",
    "    height = 5\n",
    "    path = [[1,1,1],[0,0,1],[0,1,1],[0,1,0],[0,1,1]]\n",
    "    #for i in range(height):\n",
    "        #path.append(list(map(int, raw_input().strip().split())))\n",
    "    dp = [[0 for col in range(width)] for row in range(height)]\n",
    "    dp[0][0] = path[0][0]\n",
    "    for col in range(1, width):\n",
    "        if path[0][col] != 0 and dp[0][col - 1] != float('inf'):\n",
    "            dp[0][col] = dp[0][col - 1] + path[0][col]\n",
    "        else:\n",
    "            dp[0][col] = float('inf')\n",
    "\n",
    "    for row in range(1, height):\n",
    "        if path[row][0] != 0 and dp[row-1][0] != float('inf'):\n",
    "            dp[row][0] = dp[row-1][0] + path[row][0]\n",
    "        else:\n",
    "            dp[row][0] = float('inf')\n",
    "\n",
    "    for row in range(1, height):\n",
    "        for col in range(1, width):\n",
    "            if path[row][col] != 0:\n",
    "                dp[row][col] = min(dp[row-1][col], dp[row][col-1]) + path[row][col]\n",
    "            else:\n",
    "                dp[row][col] = float('inf')\n",
    "        for col in range(width - 2, -1, -1):\n",
    "            if path[row][col] != 0:\n",
    "                dp[row][col] = min(dp[row][col], dp[row][col+1] + path[row][col])\n",
    "\n",
    "    print(dp)\n",
    "\n",
    "func()\n",
    "\n"
   ],
   "metadata": {
    "collapsed": false,
    "pycharm": {
     "name": "#%%\n"
    }
   }
  },
  {
   "cell_type": "code",
   "execution_count": 21,
   "outputs": [
    {
     "data": {
      "text/plain": "['123', '']"
     },
     "execution_count": 21,
     "metadata": {},
     "output_type": "execute_result"
    }
   ],
   "source": [
    "'123-'.split('-')"
   ],
   "metadata": {
    "collapsed": false,
    "pycharm": {
     "name": "#%%\n"
    }
   }
  },
  {
   "cell_type": "code",
   "execution_count": null,
   "outputs": [],
   "source": [
    "def tel(s: str):\n",
    "    if s[0] != '+':\n",
    "        return 0\n",
    "    num_lst = s[1:].split('-')\n",
    "    cnt = 0\n",
    "    for num in num_lst:\n",
    "        if num == '':\n",
    "            return 0\n",
    "        if not num.isdigit():\n",
    "            return 0\n",
    "        cnt += len(num)\n",
    "    if cnt < 6:\n",
    "        return 0\n",
    "    return 1\n",
    "\n",
    "\n",
    "def sip(s: str):\n",
    "    com_lst = s.split('@')\n",
    "    if len(com_lst) > 2:\n",
    "        return 0\n",
    "    # username\n",
    "    if com_lst[0][0] == '+':\n",
    "        if not tel(com_lst[0][0]):\n",
    "            return 0\n",
    "    else:\n",
    "        if not com_lst[0][0].isalpha():\n",
    "            return 0\n",
    "        if len(com_lst[0]) < 6:\n",
    "            return 0\n",
    "        for c in com_lst:\n",
    "            if not (c.isdigit() or c.isalpha()):\n",
    "                return 0\n",
    "\n",
    "    # com\n",
    "    name_lst = com_lst[1].split('.')\n",
    "    for name in name_lst:\n",
    "        if name == '':\n",
    "            return 0\n",
    "        for n in name:\n",
    "            if not (c.isdigit() or c.isalpha()):\n",
    "                return 0\n",
    "    return 1\n",
    "\n",
    "\n",
    "\n",
    "def func():\n",
    "\n",
    "    # please define the python2 input here. For example: a,b = map(int, raw_input().strip().split())\n",
    "    n = int(raw_input().strip())\n",
    "    res = []\n",
    "    for i in range(n):\n",
    "        string = raw_input().strip()\n",
    "        if string[:3] == 'tel':\n",
    "            res.append(tel(string[3:]))\n",
    "        elif string[:3] == 'sip':\n",
    "            res.append(tel(string[3:]))\n",
    "        else:\n",
    "            res.append(0)\n",
    "\n",
    "\n",
    "    # please finish the function body here.`program_language_template_t`\n",
    "\n",
    "    # please define the python2 output here. For example: print ___.\n",
    "\n",
    "\n",
    "if __name__ == \"__main__\":\n",
    "    func()"
   ],
   "metadata": {
    "collapsed": false,
    "pycharm": {
     "name": "#%%\n"
    }
   }
  },
  {
   "cell_type": "code",
   "execution_count": 37,
   "outputs": [
    {
     "data": {
      "text/plain": "1"
     },
     "execution_count": 37,
     "metadata": {},
     "output_type": "execute_result"
    }
   ],
   "source": [
    "def tel(s: str):\n",
    "    if s[0] != '+':\n",
    "        return 0\n",
    "    num_lst = s[1:].split('-')\n",
    "    cnt = 0\n",
    "    for num in num_lst:\n",
    "        if num == '':\n",
    "            return 0\n",
    "        if not num.isdigit():\n",
    "            return 0\n",
    "        cnt += len(num)\n",
    "    if cnt < 6:\n",
    "        return 0\n",
    "    return 1\n",
    "\n",
    "\n",
    "def sip(s: str):\n",
    "    com_lst = s.split('@')\n",
    "    if len(com_lst) > 2:\n",
    "        return 0\n",
    "    # username\n",
    "    if com_lst[0][0] == '+':\n",
    "        if not tel(com_lst[0][0]):\n",
    "            return 0\n",
    "    else:\n",
    "        if not com_lst[0][0].isalpha():\n",
    "            return 0\n",
    "        if len(com_lst[0]) < 6:\n",
    "            return 0\n",
    "        for c in com_lst[0]:\n",
    "            if not (c.isdigit() or c.isalpha()):\n",
    "                return 0\n",
    "\n",
    "    # com\n",
    "    name_lst = com_lst[1].split('.')\n",
    "    for name in name_lst:\n",
    "        if name == '':\n",
    "            return 0\n",
    "        for n in name:\n",
    "            if not (n.isdigit() or n.isalpha()):\n",
    "                return 0\n",
    "    return 1\n",
    "\n",
    "tel('+861-5351-7060')"
   ],
   "metadata": {
    "collapsed": false,
    "pycharm": {
     "name": "#%%\n"
    }
   }
  },
  {
   "cell_type": "code",
   "execution_count": 39,
   "outputs": [
    {
     "ename": "TypeError",
     "evalue": "sequence item 0: expected str instance, int found",
     "output_type": "error",
     "traceback": [
      "\u001B[1;31m---------------------------------------------------------------------------\u001B[0m",
      "\u001B[1;31mTypeError\u001B[0m                                 Traceback (most recent call last)",
      "\u001B[1;32m~\\AppData\\Local\\Temp\\ipykernel_43860\\2801736058.py\u001B[0m in \u001B[0;36m<module>\u001B[1;34m\u001B[0m\n\u001B[0;32m     66\u001B[0m \u001B[1;33m\u001B[0m\u001B[0m\n\u001B[0;32m     67\u001B[0m \u001B[1;32mif\u001B[0m \u001B[0m__name__\u001B[0m \u001B[1;33m==\u001B[0m \u001B[1;34m\"__main__\"\u001B[0m\u001B[1;33m:\u001B[0m\u001B[1;33m\u001B[0m\u001B[1;33m\u001B[0m\u001B[0m\n\u001B[1;32m---> 68\u001B[1;33m     \u001B[0mfunc\u001B[0m\u001B[1;33m(\u001B[0m\u001B[1;33m)\u001B[0m\u001B[1;33m\u001B[0m\u001B[1;33m\u001B[0m\u001B[0m\n\u001B[0m",
      "\u001B[1;32m~\\AppData\\Local\\Temp\\ipykernel_43860\\2801736058.py\u001B[0m in \u001B[0;36mfunc\u001B[1;34m()\u001B[0m\n\u001B[0;32m     62\u001B[0m \u001B[1;33m\u001B[0m\u001B[0m\n\u001B[0;32m     63\u001B[0m     \u001B[1;31m# please define the python2 output here. For example: print ___.\u001B[0m\u001B[1;33m\u001B[0m\u001B[1;33m\u001B[0m\u001B[1;33m\u001B[0m\u001B[0m\n\u001B[1;32m---> 64\u001B[1;33m     \u001B[0mprint\u001B[0m\u001B[1;33m(\u001B[0m\u001B[1;34m' '\u001B[0m\u001B[1;33m.\u001B[0m\u001B[0mjoin\u001B[0m\u001B[1;33m(\u001B[0m\u001B[0mres\u001B[0m\u001B[1;33m)\u001B[0m\u001B[1;33m)\u001B[0m\u001B[1;33m\u001B[0m\u001B[1;33m\u001B[0m\u001B[0m\n\u001B[0m\u001B[0;32m     65\u001B[0m \u001B[1;33m\u001B[0m\u001B[0m\n\u001B[0;32m     66\u001B[0m \u001B[1;33m\u001B[0m\u001B[0m\n",
      "\u001B[1;31mTypeError\u001B[0m: sequence item 0: expected str instance, int found"
     ]
    }
   ],
   "source": [
    "# If you need to import additional packages or classes, please import here.\n",
    "def tel(s):\n",
    "    if s[0] != '+':\n",
    "        return 0\n",
    "    num_lst = s[1:].split('-')\n",
    "    cnt = 0\n",
    "    for num in num_lst:\n",
    "        if num == '':\n",
    "            return 0\n",
    "        if not num.isdigit():\n",
    "            return 0\n",
    "        cnt += len(num)\n",
    "    if cnt < 6:\n",
    "        return 0\n",
    "    return 1\n",
    "\n",
    "\n",
    "def sip(s):\n",
    "    com_lst = s.split('@')\n",
    "    if len(com_lst) > 2:\n",
    "        return 0\n",
    "    # username\n",
    "    if com_lst[0][0] == '+':\n",
    "        if not tel(com_lst[0][0]):\n",
    "            return 0\n",
    "    else:\n",
    "        if not com_lst[0][0].isalpha():\n",
    "            return 0\n",
    "        if len(com_lst[0]) < 6:\n",
    "            return 0\n",
    "        for c in com_lst[0]:\n",
    "            if not (c.isdigit() or c.isalpha()):\n",
    "                return 0\n",
    "\n",
    "    # com\n",
    "    name_lst = com_lst[1].split('.')\n",
    "    for name in name_lst:\n",
    "        if name == '':\n",
    "            return 0\n",
    "        for n in name:\n",
    "            if not (n.isdigit() or n.isalpha()):\n",
    "                return 0\n",
    "    return 1\n",
    "\n",
    "\n",
    "def func():\n",
    "\n",
    "    # please define the python2 input here. For example: a,b = map(int, raw_input().strip().split())\n",
    "    n = int(input().strip())\n",
    "    res = []\n",
    "    for i in range(n):\n",
    "        string = input().strip()\n",
    "        if string[:3] == 'tel':\n",
    "            res.append(tel(string[4:]))\n",
    "        elif string[:3] == 'sip':\n",
    "            res.append(sip(string[4:]))\n",
    "        else:\n",
    "            res.append(0)\n",
    "\n",
    "\n",
    "    # please finish the function body here.`program_language_template_t`\n",
    "\n",
    "    # please define the python2 output here. For example: print ___.\n",
    "    print(' '.join(res))\n",
    "\n",
    "\n",
    "if __name__ == \"__main__\":\n",
    "    func()"
   ],
   "metadata": {
    "collapsed": false,
    "pycharm": {
     "name": "#%%\n"
    }
   }
  },
  {
   "cell_type": "code",
   "execution_count": null,
   "outputs": [],
   "source": [
    "def sip(s):\n",
    "    com_lst = s.split('@')\n",
    "    if len(com_lst) > 2:\n",
    "        return 0\n",
    "    # username\n",
    "    if com_lst[0][0] == '+':\n",
    "        if not tel(com_lst[0][0]):\n",
    "            return 0\n",
    "    else:\n",
    "        if not com_lst[0][0].isalpha():\n",
    "            return 0\n",
    "        if len(com_lst[0]) < 6:\n",
    "            return 0\n",
    "        for c in com_lst[0]:\n",
    "            if not (c.isdigit() or c.isalpha()):\n",
    "                return 0\n",
    "\n",
    "    # com\n",
    "    name_lst = com_lst[1].split('.')\n",
    "    for name in name_lst:\n",
    "        if name == '' :\n",
    "            return 0\n",
    "        for n in name:\n",
    "            if not (n.isdigit() or n.isalpha()):\n",
    "                return 0\n",
    "    return 1"
   ],
   "metadata": {
    "collapsed": false,
    "pycharm": {
     "name": "#%%\n"
    }
   }
  },
  {
   "cell_type": "code",
   "execution_count": 57,
   "outputs": [
    {
     "data": {
      "text/plain": "False"
     },
     "execution_count": 57,
     "metadata": {},
     "output_type": "execute_result"
    }
   ],
   "source": [
    "' '.isdigit()"
   ],
   "metadata": {
    "collapsed": false,
    "pycharm": {
     "name": "#%%\n"
    }
   }
  },
  {
   "cell_type": "code",
   "execution_count": 42,
   "outputs": [
    {
     "data": {
      "text/plain": "6"
     },
     "execution_count": 42,
     "metadata": {},
     "output_type": "execute_result"
    }
   ],
   "source": [],
   "metadata": {
    "collapsed": false,
    "pycharm": {
     "name": "#%%\n"
    }
   }
  },
  {
   "cell_type": "code",
   "execution_count": 49,
   "outputs": [
    {
     "data": {
      "text/plain": "3"
     },
     "execution_count": 49,
     "metadata": {},
     "output_type": "execute_result"
    }
   ],
   "source": [
    "len(bytearray('abc'.encode()))"
   ],
   "metadata": {
    "collapsed": false,
    "pycharm": {
     "name": "#%%\n"
    }
   }
  },
  {
   "cell_type": "code",
   "execution_count": 52,
   "outputs": [
    {
     "data": {
      "text/plain": "b'ac'"
     },
     "execution_count": 52,
     "metadata": {},
     "output_type": "execute_result"
    }
   ],
   "source": [],
   "metadata": {
    "collapsed": false,
    "pycharm": {
     "name": "#%%\n"
    }
   }
  },
  {
   "cell_type": "code",
   "execution_count": 53,
   "outputs": [
    {
     "data": {
      "text/plain": "['a v', ' ']"
     },
     "execution_count": 53,
     "metadata": {},
     "output_type": "execute_result"
    }
   ],
   "source": [
    "'a v. '.split('.')"
   ],
   "metadata": {
    "collapsed": false,
    "pycharm": {
     "name": "#%%\n"
    }
   }
  },
  {
   "cell_type": "code",
   "execution_count": 59,
   "outputs": [
    {
     "ename": "NameError",
     "evalue": "name 'raw_input' is not defined",
     "output_type": "error",
     "traceback": [
      "\u001B[1;31m---------------------------------------------------------------------------\u001B[0m",
      "\u001B[1;31mNameError\u001B[0m                                 Traceback (most recent call last)",
      "\u001B[1;32m~\\AppData\\Local\\Temp\\ipykernel_43860\\2276667193.py\u001B[0m in \u001B[0;36m<module>\u001B[1;34m\u001B[0m\n\u001B[1;32m----> 1\u001B[1;33m \u001B[0mhh\u001B[0m\u001B[1;33m=\u001B[0m\u001B[0mraw_input\u001B[0m\u001B[1;33m(\u001B[0m\u001B[1;33m)\u001B[0m\u001B[1;33m\u001B[0m\u001B[1;33m\u001B[0m\u001B[0m\n\u001B[0m\u001B[0;32m      2\u001B[0m \u001B[0mprint\u001B[0m\u001B[1;33m(\u001B[0m\u001B[0mhh\u001B[0m\u001B[1;33m)\u001B[0m\u001B[1;33m\u001B[0m\u001B[1;33m\u001B[0m\u001B[0m\n",
      "\u001B[1;31mNameError\u001B[0m: name 'raw_input' is not defined"
     ]
    }
   ],
   "source": [
    "hh= input()\n",
    "print(hh)"
   ],
   "metadata": {
    "collapsed": false,
    "pycharm": {
     "name": "#%%\n"
    }
   }
  },
  {
   "cell_type": "code",
   "execution_count": null,
   "outputs": [],
   "source": [
    "\n",
    "# If you need to import additional packages or classes, please import here.\n",
    "\n",
    "def func():\n",
    "\n",
    "    # please define the python2 input here. For example: a,b = map(int, raw_input().strip().split())\n",
    "    width = int(raw_input().strip())\n",
    "    height = int(raw_input().strip())\n",
    "    path = []\n",
    "    for i in range(height):\n",
    "        path.append(list(map(int, raw_input().strip().split()))[:width])\n",
    "    dp = [[0 for col in range(width)] for row in range(height)]\n",
    "    dp[0][0] = path[0][0]\n",
    "    for col in range(1, width):\n",
    "        if path[0][col] != 0 and dp[0][col - 1] != float('inf'):\n",
    "            dp[0][col] = dp[0][col - 1] + path[0][col]\n",
    "        else:\n",
    "            dp[0][col] = float('inf')\n",
    "\n",
    "    for row in range(1, height):\n",
    "        if path[row][0] != 0 and dp[row-1][0] != float('inf'):\n",
    "            dp[row][0] = dp[row-1][0] + path[row][0]\n",
    "        else:\n",
    "            dp[row][0] = float('inf')\n",
    "\n",
    "    for row in range(1, height):\n",
    "        for col in range(1, width):\n",
    "            if path[row][col] != 0:\n",
    "                dp[row][col] = min(dp[row-1][col], dp[row][col-1]) + path[row][col]\n",
    "            else:\n",
    "                dp[row][col] = float('inf')\n",
    "\n",
    "\n",
    "    # please finish the function body here.`program_language_template_t`\n",
    "\n",
    "    # please define the python2 output here. For example: print ___.\n",
    "    print(dp[-1][-1])\n",
    "\n",
    "\n",
    "if __name__ == \"__main__\":\n",
    "    func()"
   ],
   "metadata": {
    "collapsed": false,
    "pycharm": {
     "name": "#%%\n"
    }
   }
  },
  {
   "cell_type": "code",
   "execution_count": null,
   "outputs": [],
   "source": [
    "\n",
    "# If you need to import additional packages or classes, please import here.\n",
    "\n",
    "def func():\n",
    "\n",
    "    # please define the python2 input here. For example: a,b = map(int, raw_input().strip().split())\n",
    "    width = int(raw_input().strip())\n",
    "    height = int(raw_input().strip())\n",
    "    path = []\n",
    "    for i in range(height):\n",
    "        path.append(list(map(int, raw_input().strip().split()))[:width])\n",
    "    dp = [[0 for col in range(width)] for row in range(height)]\n",
    "    dp[0][0] = path[0][0]\n",
    "    for col in range(1, width):\n",
    "        if path[0][col] != 0 and dp[0][col - 1] != float('inf'):\n",
    "            dp[0][col] = dp[0][col - 1] + path[0][col]\n",
    "        else:\n",
    "            dp[0][col] = float('inf')\n",
    "\n",
    "    for row in range(1, height):\n",
    "        if path[row][0] != 0 and dp[row-1][0] != float('inf'):\n",
    "            dp[row][0] = dp[row-1][0] + path[row][0]\n",
    "        else:\n",
    "            dp[row][0] = float('inf')\n",
    "\n",
    "    for row in range(1, height):\n",
    "        for col in range(1, width):\n",
    "            if path[row][col] != 0:\n",
    "                dp[row][col] = min(dp[row-1][col], dp[row][col-1]) + path[row][col]\n",
    "            else:\n",
    "                dp[row][col] = float('inf')\n",
    "        for col in range(width - 2, -1, -1):\n",
    "            if path[row][col] != 0:\n",
    "                dp[row][col] = min(dp[row][col], dp[row][col+1] + path[row][col])\n",
    "\n",
    "\n",
    "    # please finish the function body here.`program_language_template_t`\n",
    "\n",
    "    # please define the python2 output here. For example: print ___.\n",
    "    print(dp[-1][-1])\n",
    "\n",
    "\n",
    "if __name__ == \"__main__\":\n",
    "    func()"
   ],
   "metadata": {
    "collapsed": false,
    "pycharm": {
     "name": "#%%\n"
    }
   }
  },
  {
   "cell_type": "code",
   "execution_count": null,
   "outputs": [],
   "source": [
    "数字 n 代表生成括号的对数，请你设计一个函数，用于能够生成所有可能的并且 有效的 括号组合。\n",
    "\n",
    "\n",
    "\n",
    "示例 1：\n",
    "\n",
    "输入：n = 3\n",
    "输出：[\"((()))\",\"(()())\",\"(())()\",\"()(())\",\"()()()\"]\n",
    "示例 2：\n",
    "\n",
    "输入：n = 1\n",
    "输出：[\"()\"]\n",
    "\n",
    "提示：\n",
    "\n",
    "1 <= n <= 8"
   ],
   "metadata": {
    "collapsed": false,
    "pycharm": {
     "name": "#%%\n"
    }
   }
  },
  {
   "cell_type": "code",
   "execution_count": 4,
   "outputs": [
    {
     "name": "stdout",
     "output_type": "stream",
     "text": [
      "[['(', '(', '(', ')', ')', ')'], ['(', '(', ')', '(', ')', ')'], ['(', '(', ')', ')', '(', ')'], ['(', ')', '(', '(', ')', ')'], ['(', ')', '(', ')', '(', ')']]\n"
     ]
    }
   ],
   "source": [
    "res = []\n",
    "stack = []\n",
    "path = []\n",
    "def dfs(n, stack, path, num_left, num_right):\n",
    "    if num_left + num_right == 2*n:\n",
    "        res.append(path)\n",
    "        return\n",
    "\n",
    "    if num_left < n:\n",
    "        dfs(n, stack + ['('], path + ['('], num_left + 1, num_right)\n",
    "\n",
    "    if num_right < n and num_right < num_left and stack:\n",
    "        dfs(n, stack[:-1], path + [')'], num_left, num_right + 1)\n",
    "dfs(3,stack,path,0,0)\n",
    "print(res)"
   ],
   "metadata": {
    "collapsed": false,
    "pycharm": {
     "name": "#%%\n"
    }
   }
  },
  {
   "cell_type": "code",
   "execution_count": null,
   "outputs": [],
   "source": [],
   "metadata": {
    "collapsed": false,
    "pycharm": {
     "name": "#%%\n"
    }
   }
  }
 ],
 "metadata": {
  "kernelspec": {
   "display_name": "Python 3",
   "language": "python",
   "name": "python3"
  },
  "language_info": {
   "codemirror_mode": {
    "name": "ipython",
    "version": 2
   },
   "file_extension": ".py",
   "mimetype": "text/x-python",
   "name": "python",
   "nbconvert_exporter": "python",
   "pygments_lexer": "ipython2",
   "version": "2.7.6"
  }
 },
 "nbformat": 4,
 "nbformat_minor": 0
}