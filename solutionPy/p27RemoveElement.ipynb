{
 "cells": [
  {
   "cell_type": "markdown",
   "source": [
    "Summary:\n",
    "1. swap is not necessary\n",
    "2. idx<=ei vs idx<ei\n",
    "3."
   ],
   "metadata": {
    "collapsed": false,
    "pycharm": {
     "name": "#%% md\n"
    }
   }
  },
  {
   "cell_type": "code",
   "execution_count": 1,
   "outputs": [
    {
     "data": {
      "text/plain": "1"
     },
     "execution_count": 1,
     "metadata": {},
     "output_type": "execute_result"
    }
   ],
   "source": [
    "def removeElement(nums, val):\n",
    "    \"\"\"\n",
    "    :type nums: List[int]\n",
    "    :type val: int\n",
    "    :rtype: int\n",
    "    \"\"\"\n",
    "    ei = len(nums) - 1\n",
    "    idx=0\n",
    "    ## tbd: idx<=ei vs idx<ei\n",
    "    while idx < len(nums) and idx<=ei:\n",
    "        if nums[idx]==val:\n",
    "            while nums[ei]==val and ei>idx:\n",
    "                ei-=1\n",
    "            #nums[idx], nums[ei] = nums[ei], nums[idx]\n",
    "            nums[idx] = nums[ei]\n",
    "            ei-=1\n",
    "        idx+=1\n",
    "    return ei+1\n",
    "\n",
    "removeElement([1],1)"
   ],
   "metadata": {
    "collapsed": false,
    "pycharm": {
     "name": "#%%\n"
    }
   }
  },
  {
   "cell_type": "code",
   "execution_count": null,
   "outputs": [],
   "source": [
    "def removeElement(nums, val):\n",
    "    \"\"\"\n",
    "    :type nums: List[int]\n",
    "    :type val: int\n",
    "    :rtype: int\n",
    "    \"\"\"\n",
    "    fp=0\n",
    "    sp=0\n",
    "    while fp<len(nums) :\n",
    "        if nums[fp]!=val :\n",
    "            nums[sp]=nums[fp]\n",
    "            sp+=1\n",
    "        fp+=1\n",
    "    return sp"
   ],
   "metadata": {
    "collapsed": false,
    "pycharm": {
     "name": "#%%\n"
    }
   }
  },
  {
   "cell_type": "code",
   "execution_count": null,
   "outputs": [],
   "source": [
    "def removeElement(self, nums, val):\n",
    "    \"\"\"\n",
    "    :type nums: List[int]\n",
    "    :type val: int\n",
    "    :rtype: int\n",
    "    \"\"\"\n",
    "    fp=0\n",
    "    ep=len(nums)-1\n",
    "    while(fp<len(nums) and fp<=ep):\n",
    "        if(nums[fp]==val):\n",
    "            nums[fp]=nums[ep]\n",
    "            ep-=1\n",
    "        else:\n",
    "            fp+=1\n",
    "    return ep+1"
   ],
   "metadata": {
    "collapsed": false,
    "pycharm": {
     "name": "#%%\n"
    }
   }
  },
  {
   "cell_type": "markdown",
   "source": [],
   "metadata": {
    "collapsed": false,
    "pycharm": {
     "name": "#%% md\n"
    }
   }
  }
 ],
 "metadata": {
  "kernelspec": {
   "display_name": "Python 3",
   "language": "python",
   "name": "python3"
  },
  "language_info": {
   "codemirror_mode": {
    "name": "ipython",
    "version": 2
   },
   "file_extension": ".py",
   "mimetype": "text/x-python",
   "name": "python",
   "nbconvert_exporter": "python",
   "pygments_lexer": "ipython2",
   "version": "2.7.6"
  }
 },
 "nbformat": 4,
 "nbformat_minor": 0
}