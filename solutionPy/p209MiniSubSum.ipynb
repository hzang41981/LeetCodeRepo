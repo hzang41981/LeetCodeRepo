{
 "cells": [
  {
   "cell_type": "markdown",
   "metadata": {
    "collapsed": true,
    "pycharm": {
     "name": "#%% md\n"
    }
   },
   "source": [
    "TO REDO"
   ]
  },
  {
   "cell_type": "code",
   "execution_count": null,
   "outputs": [],
   "source": [
    "# Wrong Answer\n",
    "class Solution(object):\n",
    "    def minSubArrayLen(self, target, nums):\n",
    "        \"\"\"\n",
    "        :type target: int\n",
    "        :type nums: List[int]\n",
    "        :rtype: int\n",
    "        \"\"\"\n",
    "        res = len(nums)+1\n",
    "        lp = 0\n",
    "        sums = 0\n",
    "        for i in range(len(nums)):\n",
    "            sums = sums + nums[i]\n",
    "            if sums >= target:\n",
    "                while sums - nums[lp] >= target and lp+1 <= i:\n",
    "                    # wrong !!!\n",
    "                    lp += 1\n",
    "                    sums = sums - nums[lp]\n",
    "                res = min(res, i-lp+1)\n",
    "        if res == len(nums)+1:\n",
    "            res=0\n",
    "        return res"
   ],
   "metadata": {
    "collapsed": false,
    "pycharm": {
     "name": "#%%\n"
    }
   }
  },
  {
   "cell_type": "code",
   "execution_count": null,
   "outputs": [],
   "source": [
    "class Solution(object):\n",
    "    def minSubArrayLen(self, target, nums):\n",
    "        \"\"\"\n",
    "        :type target: int\n",
    "        :type nums: List[int]\n",
    "        :rtype: int\n",
    "        \"\"\"\n",
    "        res = len(nums)+1\n",
    "        lp = 0\n",
    "        sums = 0\n",
    "        for i in range(len(nums)):\n",
    "            sums = sums + nums[i]\n",
    "            while sums >= target:\n",
    "                res = min(res, i-lp+1)\n",
    "                sums = sums - nums[lp]\n",
    "                lp += 1\n",
    "        if res == len(nums)+1:\n",
    "            res=0\n",
    "        return res"
   ],
   "metadata": {
    "collapsed": false,
    "pycharm": {
     "name": "#%%\n"
    }
   }
  },
  {
   "cell_type": "code",
   "execution_count": null,
   "outputs": [],
   "source": [],
   "metadata": {
    "collapsed": false,
    "pycharm": {
     "name": "#%%\n"
    }
   }
  }
 ],
 "metadata": {
  "kernelspec": {
   "display_name": "Python 3",
   "language": "python",
   "name": "python3"
  },
  "language_info": {
   "codemirror_mode": {
    "name": "ipython",
    "version": 2
   },
   "file_extension": ".py",
   "mimetype": "text/x-python",
   "name": "python",
   "nbconvert_exporter": "python",
   "pygments_lexer": "ipython2",
   "version": "2.7.6"
  }
 },
 "nbformat": 4,
 "nbformat_minor": 0
}