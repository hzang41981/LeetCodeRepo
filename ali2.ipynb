{
 "cells": [
  {
   "cell_type": "code",
   "execution_count": 16,
   "outputs": [
    {
     "data": {
      "text/plain": "'0.10'"
     },
     "execution_count": 16,
     "metadata": {},
     "output_type": "execute_result"
    }
   ],
   "source": [
    "format(0.1,'.2f')"
   ],
   "metadata": {
    "collapsed": false,
    "pycharm": {
     "name": "#%%\n"
    }
   }
  },
  {
   "cell_type": "code",
   "execution_count": 17,
   "outputs": [
    {
     "data": {
      "text/plain": "False"
     },
     "execution_count": 17,
     "metadata": {},
     "output_type": "execute_result"
    }
   ],
   "source": [
    "'a'.isdigit()"
   ],
   "metadata": {
    "collapsed": false,
    "pycharm": {
     "name": "#%%\n"
    }
   }
  },
  {
   "cell_type": "code",
   "execution_count": 23,
   "outputs": [
    {
     "name": "stdout",
     "output_type": "stream",
     "text": [
      "16 16\n"
     ]
    }
   ],
   "source": [
    "def decim(s):\n",
    "    if s.isdigit():\n",
    "        max_int = 10\n",
    "        low_int = 2\n",
    "        for st in s:\n",
    "            low_int = max(low_int, int(st) + 1)\n",
    "        return low_int, max_int\n",
    "\n",
    "    max_int = 16\n",
    "    low_int = 11\n",
    "    for st in s:\n",
    "        if not st.isdigit():\n",
    "            low_int = max(low_int, ord(st) - ord('A') + 11)\n",
    "    return low_int, max_int\n",
    "\n",
    "number = '1F8'\n",
    "low_int, max_int = decim(number)\n",
    "print(low_int, max_int)"
   ],
   "metadata": {
    "collapsed": false,
    "pycharm": {
     "name": "#%%\n"
    }
   }
  },
  {
   "cell_type": "code",
   "execution_count": 32,
   "outputs": [
    {
     "name": "stdout",
     "output_type": "stream",
     "text": [
      "255\n"
     ]
    }
   ],
   "source": [
    "def decim(s):\n",
    "    if s.isdigit():\n",
    "        max_int = 16\n",
    "        low_int = 2\n",
    "        for st in s:\n",
    "            low_int = max(low_int, int(st) + 1)\n",
    "        return low_int, max_int\n",
    "\n",
    "    max_int = 16\n",
    "    low_int = 11\n",
    "    for st in s:\n",
    "        if not st.isdigit():\n",
    "            low_int = max(low_int, ord(st) - ord('A') + 11)\n",
    "    return low_int, max_int\n",
    "\n",
    "number = 'FF'\n",
    "low_int, max_int = decim(number)\n",
    "\n",
    "if max_int <= 10:\n",
    "    for i in range(low_int, max_int + 1):\n",
    "        current_num = 0\n",
    "        for s in number:\n",
    "            current_num = current_num * i + int(s)\n",
    "        print(current_num)\n",
    "else:\n",
    "    for i in range(low_int, max_int + 1):\n",
    "        current_num = 0\n",
    "        for s in number:\n",
    "            current_num = current_num * i + (int(s) if s.isdigit() else ord(s) - ord('A') + 10)\n",
    "        print(current_num)"
   ],
   "metadata": {
    "collapsed": false,
    "pycharm": {
     "name": "#%%\n"
    }
   }
  },
  {
   "cell_type": "code",
   "execution_count": null,
   "outputs": [],
   "source": [],
   "metadata": {
    "collapsed": false,
    "pycharm": {
     "name": "#%%\n"
    }
   }
  }
 ],
 "metadata": {
  "kernelspec": {
   "display_name": "Python 3",
   "language": "python",
   "name": "python3"
  },
  "language_info": {
   "codemirror_mode": {
    "name": "ipython",
    "version": 2
   },
   "file_extension": ".py",
   "mimetype": "text/x-python",
   "name": "python",
   "nbconvert_exporter": "python",
   "pygments_lexer": "ipython2",
   "version": "2.7.6"
  }
 },
 "nbformat": 4,
 "nbformat_minor": 0
}