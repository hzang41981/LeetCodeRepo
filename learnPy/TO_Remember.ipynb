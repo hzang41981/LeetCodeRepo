{
 "cells": [
  {
   "cell_type": "code",
   "execution_count": null,
   "id": "273dacbe",
   "metadata": {},
   "outputs": [],
   "source": [
    "# LinkedList\n",
    "\n",
    "# Definition for singly-linked list.\n",
    "class ListNode:\n",
    "    def __init__(self, val=0, next=None):\n",
    "        self.val = val\n",
    "        self.next = next\n",
    "class Solution:\n",
    "    def removeElements(self, head: Optional[ListNode], val: int) -> Optional[ListNode]:"
   ]
  },
  {
   "cell_type": "markdown",
   "source": [],
   "metadata": {
    "collapsed": false
   }
  },
  {
   "cell_type": "code",
   "execution_count": 1,
   "id": "93430fd3",
   "metadata": {},
   "outputs": [
    {
     "name": "stdout",
     "output_type": "stream",
     "text": [
      "0\n",
      "1\n",
      "2\n",
      "3\n",
      "4\n",
      "5\n",
      "6\n",
      "7\n",
      "8\n",
      "else\n"
     ]
    }
   ],
   "source": [
    "# for else loop\n",
    "criterion = 10\n",
    "\n",
    "for i in range(9):\n",
    "    print(i)\n",
    "    if i>criterion:\n",
    "        break\n",
    "else:\n",
    "    print('else')"
   ]
  },
  {
   "cell_type": "code",
   "execution_count": 6,
   "id": "d78c9715",
   "metadata": {},
   "outputs": [
    {
     "data": {
      "text/plain": [
       "True"
      ]
     },
     "execution_count": 6,
     "metadata": {},
     "output_type": "execute_result"
    }
   ],
   "source": [
    "# hashmap\n",
    "dct = {1:2}\n",
    "dct.get(2, None) == None"
   ]
  },
  {
   "cell_type": "code",
   "execution_count": 10,
   "id": "65eb11fc",
   "metadata": {},
   "outputs": [
    {
     "name": "stdout",
     "output_type": "stream",
     "text": [
      "97\n"
     ]
    },
    {
     "data": {
      "text/plain": [
       "'b'"
      ]
     },
     "execution_count": 10,
     "metadata": {},
     "output_type": "execute_result"
    }
   ],
   "source": [
    "# ord()\n",
    "print(ord('a'))\n",
    "ord('a') - ord('b')\n",
    "chr(ord('a') + 1)"
   ]
  },
  {
   "cell_type": "code",
   "execution_count": 16,
   "id": "6610f24b",
   "metadata": {},
   "outputs": [
    {
     "name": "stdout",
     "output_type": "stream",
     "text": [
      "Counter({'b': 3, 'a': 1, 'c': 1, 'd': 1}) Counter({'a': 1, 'b': 1, 'c': 1})\n",
      "Counter({'a': 1, 'b': 1, 'c': 1})\n"
     ]
    },
    {
     "data": {
      "text/plain": [
       "['a', 'b', 'c']"
      ]
     },
     "execution_count": 16,
     "metadata": {},
     "output_type": "execute_result"
    }
   ],
   "source": [
    "# Counter\n",
    "\n",
    "# Leetcode\n",
    "from collections import Counter\n",
    "\n",
    "class Solution:\n",
    "    def commonChars(self, words):\n",
    "        tmp = Counter(words[0])\n",
    "        l = []\n",
    "        for i in range(1,len(words)):\n",
    "            # 使用 & 取交集\n",
    "            print(tmp, Counter(words[i]))\n",
    "            tmp = tmp & Counter(words[i])\n",
    "            print(tmp)\n",
    "\n",
    "        # 剩下的就是每个单词都出现的字符（键），个数（值）\n",
    "        for j in tmp:\n",
    "            v = tmp[j]\n",
    "            while(v):\n",
    "                l.append(j)\n",
    "                v -= 1\n",
    "        return l\n",
    "s = Solution()\n",
    "s.commonChars(['abbbcd','abc'])\n",
    "\n",
    "# Leetcode 383\n",
    "class Solution:\n",
    "    def canConstruct(self, ransomNote: str, magazine: str) -> bool:\n",
    "        c1 = collections.Counter(ransomNote)\n",
    "        c2 = collections.Counter(magazine)\n",
    "        x = c1 - c2\n",
    "        #x只保留值大于0的符号，当c1里面的符号个数小于c2时，不会被保留\n",
    "        #所以x只保留下了，magazine不能表达的\n",
    "        if(len(x)==0):\n",
    "            return True\n",
    "        else:\n",
    "            return False"
   ]
  },
  {
   "cell_type": "code",
   "execution_count": 17,
   "id": "f69f4f80",
   "metadata": {},
   "outputs": [
    {
     "name": "stdout",
     "output_type": "stream",
     "text": [
      "0 1\n",
      "1 2\n",
      "2 3\n",
      "3 4\n",
      "4 5\n",
      "5 6\n",
      "6 7\n",
      "7 8\n"
     ]
    }
   ],
   "source": [
    "# enumerate\n",
    "for idx, val in enumerate(range(1,9)):\n",
    "    print(idx, val)"
   ]
  },
  {
   "cell_type": "code",
   "execution_count": 20,
   "id": "cdf5ddf0",
   "metadata": {},
   "outputs": [
    {
     "ename": "AttributeError",
     "evalue": "module 'heapq' has no attribute 'top'",
     "output_type": "error",
     "traceback": [
      "\u001B[1;31m---------------------------------------------------------------------------\u001B[0m",
      "\u001B[1;31mAttributeError\u001B[0m                            Traceback (most recent call last)",
      "\u001B[1;32mC:\\Users\\ZANGHA~1\\AppData\\Local\\Temp/ipykernel_159884/2206679901.py\u001B[0m in \u001B[0;36m<module>\u001B[1;34m\u001B[0m\n\u001B[0;32m      3\u001B[0m \u001B[0mhp\u001B[0m \u001B[1;33m=\u001B[0m \u001B[1;33m[\u001B[0m\u001B[1;33m]\u001B[0m\u001B[1;33m\u001B[0m\u001B[1;33m\u001B[0m\u001B[0m\n\u001B[0;32m      4\u001B[0m \u001B[0mheapq\u001B[0m\u001B[1;33m.\u001B[0m\u001B[0mheappush\u001B[0m\u001B[1;33m(\u001B[0m\u001B[0mhp\u001B[0m\u001B[1;33m,\u001B[0m\u001B[1;33m(\u001B[0m\u001B[1;36m1\u001B[0m\u001B[1;33m,\u001B[0m\u001B[1;36m2\u001B[0m\u001B[1;33m)\u001B[0m\u001B[1;33m)\u001B[0m\u001B[1;33m\u001B[0m\u001B[1;33m\u001B[0m\u001B[0m\n\u001B[1;32m----> 5\u001B[1;33m \u001B[0mprint\u001B[0m\u001B[1;33m(\u001B[0m\u001B[0mheapq\u001B[0m\u001B[1;33m.\u001B[0m\u001B[0mtop\u001B[0m\u001B[1;33m(\u001B[0m\u001B[1;33m)\u001B[0m\u001B[1;33m)\u001B[0m\u001B[1;33m\u001B[0m\u001B[1;33m\u001B[0m\u001B[0m\n\u001B[0m",
      "\u001B[1;31mAttributeError\u001B[0m: module 'heapq' has no attribute 'top'"
     ]
    }
   ],
   "source": [
    "import heapq\n",
    "\n",
    "hp = []\n",
    "heapq.heappush(hp,(1,2))\n",
    "print(heapq.top())"
   ]
  },
  {
   "cell_type": "code",
   "execution_count": null,
   "id": "6ad5e0ae",
   "metadata": {},
   "outputs": [],
   "source": []
  }
 ],
 "metadata": {
  "kernelspec": {
   "display_name": "Python 3 (ipykernel)",
   "language": "python",
   "name": "python3"
  },
  "language_info": {
   "codemirror_mode": {
    "name": "ipython",
    "version": 3
   },
   "file_extension": ".py",
   "mimetype": "text/x-python",
   "name": "python",
   "nbconvert_exporter": "python",
   "pygments_lexer": "ipython3",
   "version": "3.7.9"
  }
 },
 "nbformat": 4,
 "nbformat_minor": 5
}