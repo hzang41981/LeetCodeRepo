{
 "cells": [
  {
   "cell_type": "code",
   "execution_count": 5,
   "id": "595caf60",
   "metadata": {},
   "outputs": [
    {
     "name": "stdout",
     "output_type": "stream",
     "text": [
      "2\n",
      "1\n",
      "2 2\n",
      "[[1], [2, 2]]\n"
     ]
    }
   ],
   "source": [
    "if __name__ == \"__main__\":\n",
    "    n = int(input())\n",
    "    a = []\n",
    "    for _ in range(n):\n",
    "        a.append(list(map(int,input().strip().split())))\n",
    "    a.sort(key=lambda x: x[0])\n",
    "    print(a)"
   ]
  },
  {
   "cell_type": "code",
   "execution_count": 3,
   "id": "0b242856",
   "metadata": {},
   "outputs": [
    {
     "name": "stdout",
     "output_type": "stream",
     "text": [
      "3\n",
      "1 2 3 4\n",
      "[1, 2, 3, 4]\n"
     ]
    }
   ],
   "source": [
    "if __name__ == \"__main__\":\n",
    "    n = int(input())\n",
    "    inlist = list(map(int,input().split()))\n",
    "    print(inlist)"
   ]
  },
  {
   "cell_type": "code",
   "execution_count": 21,
   "id": "059a20c8",
   "metadata": {},
   "outputs": [
    {
     "name": "stdout",
     "output_type": "stream",
     "text": [
      "0 -1\n",
      "0 []\n",
      "1 []\n",
      "2 [2]\n",
      "3 [2]\n",
      "4 [2]\n",
      "5 [2]\n",
      "6 [2, 6]\n",
      "3 6\n",
      "7 [6]\n",
      "8 [6]\n",
      "9 [6]\n",
      "10 [6]\n",
      "11 [6]\n",
      "12 [6]\n",
      "13 [6, 13]\n",
      "10\n"
     ]
    }
   ],
   "source": [
    "def maxstr(st, c, m):\n",
    "    p2 = 0\n",
    "    ci = [-1]\n",
    "    res = 0\n",
    "    while p2 < len(st) - 1:\n",
    "        p2 = ci[-1]\n",
    "        p1 = ci.pop(0) + 1\n",
    "        print(p1, p2)\n",
    "        while len(ci) <= m:\n",
    "            p2 += 1\n",
    "            if p2 == len(st):\n",
    "                break\n",
    "            if st[p2] != c:\n",
    "                ci.append(p2)\n",
    "            print(p2, ci)\n",
    "        res = max(res, p2 - p1)\n",
    "    return res\n",
    "print(maxstr('aabaaabaaaaaab', 'a', 1))"
   ]
  },
  {
   "cell_type": "code",
   "execution_count": null,
   "id": "31536204",
   "metadata": {},
   "outputs": [],
   "source": [
    "# map get !!!\n",
    "if __name__ == '__main__':\n",
    "    customer = int(input())\n",
    "    likeNum = list(map(int, raw_input().strip().split()))\n",
    "    likeMap = {}\n",
    "    for i in range(customer):\n",
    "        if likeMap.get(likeNum[i],[]) != []:\n",
    "            likeMap[likeNum[i]].append(i)\n",
    "        else:\n",
    "            likeMap[likeNum[i]] = [i]\n",
    "    searchNum = int(input())\n",
    "    for case in range(searchNum):\n",
    "        l, r, k = map(int, raw_input().strip().split())\n",
    "        res = 0\n",
    "        if likeMap.get(k,[]) != []:\n",
    "            for idx in likeMap[k]:\n",
    "                if idx + 1 >= l and idx + 1 <= r:\n",
    "                    res += 1\n",
    "        print(res)"
   ]
  },
  {
   "cell_type": "code",
   "execution_count": 24,
   "id": "bd2da388",
   "metadata": {},
   "outputs": [],
   "source": [
    "a=[1,2,3]\n",
    "b=[12,3]\n",
    "a.append(b)\n",
    "a.extend(b)\n",
    "#https://www.journaldev.com/33182/python-add-to-list"
   ]
  },
  {
   "cell_type": "code",
   "execution_count": 30,
   "id": "e2d27a54",
   "metadata": {},
   "outputs": [
    {
     "ename": "KeyError",
     "evalue": "7",
     "output_type": "error",
     "traceback": [
      "\u001B[1;31m---------------------------------------------------------------------------\u001B[0m",
      "\u001B[1;31mKeyError\u001B[0m                                  Traceback (most recent call last)",
      "\u001B[1;32mC:\\Users\\ZANGHA~1\\AppData\\Local\\Temp/ipykernel_69728/2984832350.py\u001B[0m in \u001B[0;36m<module>\u001B[1;34m\u001B[0m\n\u001B[0;32m      1\u001B[0m \u001B[0ma\u001B[0m \u001B[1;33m=\u001B[0m \u001B[0mset\u001B[0m\u001B[1;33m(\u001B[0m\u001B[0mrange\u001B[0m\u001B[1;33m(\u001B[0m\u001B[1;36m4\u001B[0m\u001B[1;33m)\u001B[0m\u001B[1;33m)\u001B[0m\u001B[1;33m\u001B[0m\u001B[1;33m\u001B[0m\u001B[0m\n\u001B[1;32m----> 2\u001B[1;33m \u001B[0ma\u001B[0m\u001B[1;33m.\u001B[0m\u001B[0mremove\u001B[0m\u001B[1;33m(\u001B[0m\u001B[1;36m7\u001B[0m\u001B[1;33m)\u001B[0m\u001B[1;33m\u001B[0m\u001B[1;33m\u001B[0m\u001B[0m\n\u001B[0m\u001B[0;32m      3\u001B[0m \u001B[1;33m\u001B[0m\u001B[0m\n\u001B[0;32m      4\u001B[0m \u001B[0mprint\u001B[0m\u001B[1;33m(\u001B[0m\u001B[0ma\u001B[0m\u001B[1;33m)\u001B[0m\u001B[1;33m\u001B[0m\u001B[1;33m\u001B[0m\u001B[0m\n",
      "\u001B[1;31mKeyError\u001B[0m: 7"
     ]
    }
   ],
   "source": [
    "a = set(range(4))\n",
    "a.remove(7)\n",
    "\n",
    "print(a)"
   ]
  },
  {
   "cell_type": "code",
   "execution_count": 31,
   "id": "ae45d599",
   "metadata": {},
   "outputs": [
    {
     "data": {
      "text/plain": [
       "0"
      ]
     },
     "execution_count": 31,
     "metadata": {},
     "output_type": "execute_result"
    }
   ],
   "source": [
    "1//2"
   ]
  },
  {
   "cell_type": "code",
   "execution_count": 32,
   "id": "bc12b32d",
   "metadata": {},
   "outputs": [
    {
     "data": {
      "text/plain": [
       "'3500'"
      ]
     },
     "execution_count": 32,
     "metadata": {},
     "output_type": "execute_result"
    }
   ],
   "source": [
    "str(3500)"
   ]
  },
  {
   "cell_type": "code",
   "execution_count": 37,
   "id": "1fb8538a",
   "metadata": {},
   "outputs": [
    {
     "name": "stdout",
     "output_type": "stream",
     "text": [
      "None\n"
     ]
    }
   ],
   "source": [
    "print([1].extend([1,2]))"
   ]
  },
  {
   "cell_type": "code",
   "execution_count": 8,
   "id": "86149417",
   "metadata": {},
   "outputs": [
    {
     "name": "stdout",
     "output_type": "stream",
     "text": [
      "None\n"
     ]
    },
    {
     "data": {
      "text/plain": "{1}"
     },
     "execution_count": 8,
     "metadata": {},
     "output_type": "execute_result"
    }
   ],
   "source": [
    "a = set([1,3])\n",
    "print(a.discard(3))\n",
    "a"
   ]
  },
  {
   "cell_type": "code",
   "execution_count": null,
   "outputs": [],
   "source": [],
   "metadata": {
    "collapsed": false,
    "pycharm": {
     "name": "#%%\n"
    }
   }
  }
 ],
 "metadata": {
  "kernelspec": {
   "display_name": "Python 3 (ipykernel)",
   "language": "python",
   "name": "python3"
  },
  "language_info": {
   "codemirror_mode": {
    "name": "ipython",
    "version": 3
   },
   "file_extension": ".py",
   "mimetype": "text/x-python",
   "name": "python",
   "nbconvert_exporter": "python",
   "pygments_lexer": "ipython3",
   "version": "3.7.9"
  }
 },
 "nbformat": 4,
 "nbformat_minor": 5
}